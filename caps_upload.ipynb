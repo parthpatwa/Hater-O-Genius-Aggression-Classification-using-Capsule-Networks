{
 "cells": [
  {
   "cell_type": "code",
   "execution_count": 3,
   "metadata": {},
   "outputs": [],
   "source": [
    "import os\n",
    "# Keras\n",
    "from keras.preprocessing.text import Tokenizer\n",
    "from keras.preprocessing.sequence import pad_sequences\n",
    "from keras.models import Sequential\n",
    "from keras.layers import Dense, Flatten, LSTM, Conv1D, MaxPooling1D, Dropout, Activation,Conv2D,MaxPooling2D\n",
    "from keras.layers import Input, Embedding, Add\n",
    "from keras import layers\n",
    "from keras import layers\n",
    "from keras.layers.embeddings import Embedding\n",
    "from keras.models import Model\n",
    "from keras.utils import to_categorical\n",
    "# NLTK\n",
    "import nltk\n",
    "from gensim.models import FastText\n",
    "from gensim.models import Word2Vec\n",
    "# Other\n",
    "import re\n",
    "import string\n",
    "import numpy as np\n",
    "import pandas as pd\n",
    "from sklearn.manifold import TSNE\n",
    "from sklearn.metrics import classification_report,confusion_matrix,accuracy_score\n",
    "from sklearn import svm\n",
    "from keras.layers.merge import concatenate\n",
    "from keras.layers import Bidirectional\n",
    "from keras.layers import K, Activation\n",
    "from keras.engine import Layer\n",
    "from keras.layers import Dense, Input, Embedding, Dropout, Bidirectional, GRU, Flatten, SpatialDropout1D"
   ]
  },
  {
   "cell_type": "code",
   "execution_count": 4,
   "metadata": {},
   "outputs": [],
   "source": [
    "gru_len = 128\n",
    "Routings = 5\n",
    "Num_capsule = 10\n",
    "Dim_capsule = 16\n",
    "dropout_p = 0.25\n",
    "rate_drop_dense = 0.28\n",
    "\n",
    "def squash(x, axis=-1):\n",
    "    # s_squared_norm is really small\n",
    "    # s_squared_norm = K.sum(K.square(x), axis, keepdims=True) + K.epsilon()\n",
    "    # scale = K.sqrt(s_squared_norm)/ (0.5 + s_squared_norm)\n",
    "    # return scale * x\n",
    "    s_squared_norm = K.sum(K.square(x), axis, keepdims=True)\n",
    "    scale = K.sqrt(s_squared_norm + K.epsilon())\n",
    "    return x / scale\n",
    "\n",
    "\n",
    "# A Capsule Implement with Pure Keras\n",
    "class Capsule(Layer):\n",
    "    def __init__(self, num_capsule, dim_capsule, routings=3, kernel_size=(9, 1), share_weights=True,\n",
    "                 activation='default', **kwargs):\n",
    "        super(Capsule, self).__init__(**kwargs)\n",
    "        self.num_capsule = num_capsule\n",
    "        self.dim_capsule = dim_capsule\n",
    "        self.routings = routings\n",
    "        self.kernel_size = kernel_size\n",
    "        self.share_weights = share_weights\n",
    "        if activation == 'default':\n",
    "            self.activation = squash\n",
    "        else:\n",
    "            self.activation = Activation(activation)\n",
    "\n",
    "    def build(self, input_shape):\n",
    "        super(Capsule, self).build(input_shape)\n",
    "        input_dim_capsule = input_shape[-1]\n",
    "        if self.share_weights:\n",
    "            self.W = self.add_weight(name='capsule_kernel',\n",
    "                                     shape=(1, input_dim_capsule,\n",
    "                                            self.num_capsule * self.dim_capsule),\n",
    "                                     # shape=self.kernel_size,\n",
    "                                     initializer='glorot_uniform',\n",
    "                                     trainable=True)\n",
    "        else:\n",
    "            input_num_capsule = input_shape[-2]\n",
    "            self.W = self.add_weight(name='capsule_kernel',\n",
    "                                     shape=(input_num_capsule,\n",
    "                                            input_dim_capsule,\n",
    "                                            self.num_capsule * self.dim_capsule),\n",
    "                                     initializer='glorot_uniform',\n",
    "                                     trainable=True)\n",
    "\n",
    "    def call(self, u_vecs):\n",
    "        if self.share_weights:\n",
    "            u_hat_vecs = K.conv1d(u_vecs, self.W)\n",
    "        else:\n",
    "            u_hat_vecs = K.local_conv1d(u_vecs, self.W, [1], [1])\n",
    "\n",
    "        batch_size = K.shape(u_vecs)[0]\n",
    "        input_num_capsule = K.shape(u_vecs)[1]\n",
    "        u_hat_vecs = K.reshape(u_hat_vecs, (batch_size, input_num_capsule,\n",
    "                                            self.num_capsule, self.dim_capsule))\n",
    "        u_hat_vecs = K.permute_dimensions(u_hat_vecs, (0, 2, 1, 3))\n",
    "        # final u_hat_vecs.shape = [None, num_capsule, input_num_capsule, dim_capsule]\n",
    "\n",
    "        b = K.zeros_like(u_hat_vecs[:, :, :, 0])  # shape = [None, num_capsule, input_num_capsule]\n",
    "        for i in range(self.routings):\n",
    "            b = K.permute_dimensions(b, (0, 2, 1))  # shape = [None, input_num_capsule, num_capsule]\n",
    "            c = K.softmax(b)\n",
    "            c = K.permute_dimensions(c, (0, 2, 1))\n",
    "            b = K.permute_dimensions(b, (0, 2, 1))\n",
    "            outputs = self.activation(K.batch_dot(c, u_hat_vecs, [2, 2]))\n",
    "            if i < self.routings - 1:\n",
    "                b = K.batch_dot(outputs, u_hat_vecs, [2, 3])\n",
    "\n",
    "        return outputs\n",
    "\n",
    "    def compute_output_shape(self, input_shape):\n",
    "        return (None, self.num_capsule, self.dim_capsule)\n",
    "\n",
    "\n"
   ]
  },
  {
   "cell_type": "code",
   "execution_count": 5,
   "metadata": {},
   "outputs": [
    {
     "name": "stdout",
     "output_type": "stream",
     "text": [
      "<class 'pandas.core.frame.DataFrame'>\n",
      "Int64Index: 39512 entries, 0 to 11998\n",
      "Data columns (total 2 columns):\n",
      "text         39512 non-null object\n",
      "Agr_Class    39512 non-null object\n",
      "dtypes: object(2)\n",
      "memory usage: 926.1+ KB\n",
      "None\n",
      "<class 'pandas.core.frame.DataFrame'>\n",
      "Int64Index: 2938 entries, 0 to 3000\n",
      "Data columns (total 3 columns):\n",
      "ID           2938 non-null object\n",
      "text         2938 non-null object\n",
      "Agr_Class    2938 non-null object\n",
      "dtypes: object(3)\n",
      "memory usage: 91.8+ KB\n",
      "None\n"
     ]
    }
   ],
   "source": [
    "df = pd.read_excel('augmented.xlsx')\n",
    "devdf = pd.read_excel('pp_dev.xlsx')\n",
    "df = df.dropna()\n",
    "df = df.drop_duplicates(subset = ['text'],keep = False)\n",
    "devdf = devdf.dropna()\n",
    "print(df.info())\n",
    "print(devdf.info())"
   ]
  },
  {
   "cell_type": "code",
   "execution_count": 6,
   "metadata": {},
   "outputs": [
    {
     "name": "stdout",
     "output_type": "stream",
     "text": [
      "FastText(vocab=24411, size=100, alpha=0.025)\n",
      "Loaded 400000 word vectors.\n"
     ]
    }
   ],
   "source": [
    "codemixed_embeddings = FastText.load('augmented_ft.bin')\n",
    "print(codemixed_embeddings )\n",
    "embeddings_index = dict()\n",
    "f = open('/home/parth/research/english/new_version/glove.6B.100d.txt')\n",
    "for line in f:\n",
    "    values = line.split()\n",
    "    word = values[0]\n",
    "    coefs = np.asarray(values[1:], dtype='float32')\n",
    "    embeddings_index[word] = coefs\n",
    "f.close()\n",
    "print('Loaded %s word vectors.' % len(embeddings_index))"
   ]
  },
  {
   "cell_type": "code",
   "execution_count": 7,
   "metadata": {},
   "outputs": [
    {
     "name": "stdout",
     "output_type": "stream",
     "text": [
      "(39512, 150)\n",
      "(2938, 150)\n"
     ]
    }
   ],
   "source": [
    "tokenizer = Tokenizer()\n",
    "tokenizer.fit_on_texts(df['text'])\n",
    "sequences = tokenizer.texts_to_sequences(df['text'])\n",
    "data = pad_sequences(sequences, maxlen=150)\n",
    "print(data.shape)\n",
    "sequences_d = tokenizer.texts_to_sequences(devdf['text'])\n",
    "data_dev = pad_sequences(sequences_d, maxlen=150)\n",
    "print(data_dev.shape)\n",
    "vocabulary_size = len(tokenizer.word_index) + 1 # 20648"
   ]
  },
  {
   "cell_type": "code",
   "execution_count": 8,
   "metadata": {},
   "outputs": [
    {
     "name": "stderr",
     "output_type": "stream",
     "text": [
      "/usr/local/lib/python3.6/dist-packages/ipykernel_launcher.py:11: DeprecationWarning: Call to deprecated `__getitem__` (Method will be removed in 4.0.0, use self.wv.__getitem__() instead).\n",
      "  # This is added back by InteractiveShellApp.init_path()\n"
     ]
    }
   ],
   "source": [
    "# create a weight matrix for words in training docs# create \n",
    "embedding_matrix = np.zeros((vocabulary_size, 100))\n",
    "for word, index in tokenizer.word_index.items():\n",
    "    if index > vocabulary_size - 1:\n",
    "        break\n",
    "    else:\n",
    "        embedding_vector = embeddings_index.get(word)\n",
    "        if embedding_vector is not None:\n",
    "            embedding_matrix[index] = embedding_vector\n",
    "        else:\n",
    "            embedding_vector = codemixed_embeddings[word]\n",
    "            if embedding_vector is not None:\n",
    "                embedding_matrix[index] = embedding_vector"
   ]
  },
  {
   "cell_type": "code",
   "execution_count": 9,
   "metadata": {},
   "outputs": [],
   "source": [
    "y= df['Agr_Class'].astype('category').cat.codes\n",
    "y_dev = devdf['Agr_Class'].astype('category').cat.codes"
   ]
  },
  {
   "cell_type": "code",
   "execution_count": null,
   "metadata": {},
   "outputs": [],
   "source": [
    "def define_model(length, vocabulary_size,embedding_matrix):\n",
    "    input1 = Input(shape=(length,))\n",
    "    embedding1 = Embedding(vocabulary_size,100, weights=[embedding_matrix], trainable=False)(input1)\n",
    "    conv1 = Conv1D(filters=32, kernel_size=3, activation='relu')(embedding1)\n",
    "    conv1 = Dropout(0.5)(conv1)\n",
    "    capsule1 = Capsule(num_capsule=Num_capsule, dim_capsule=Dim_capsule, routings=3,share_weights=True)(conv1)\n",
    "    flat1 = Flatten()(capsule1)\n",
    "\n",
    "    input2 = Input(shape=(length,))\n",
    "    embedding2 = Embedding(vocabulary_size,100, weights=[embedding_matrix], trainable=False)(input2)\n",
    "    conv2 = Conv1D(filters=32, kernel_size=4, activation='relu')(embedding2)\n",
    "    conv2 = Dropout(0.5)(conv2)    \n",
    "    capsule2 = Capsule(num_capsule=Num_capsule, dim_capsule=Dim_capsule, routings=3,share_weights=True)(conv2)\n",
    "    flat2 = Flatten()(capsule2)    \n",
    "\n",
    "    input3 = Input(shape=(length,))\n",
    "    embedding3 = Embedding(vocabulary_size,100, weights=[embedding_matrix], trainable=False)(input3)\n",
    "    conv3 = Conv1D(filters=32, kernel_size=5, activation='relu')(embedding3)   \n",
    "    conv3 = Dropout(0.5)(conv3)    \n",
    "    capsule3 = Capsule(num_capsule=Num_capsule, dim_capsule=Dim_capsule, routings=3,share_weights=True)(conv3)\n",
    "    flat3 = Flatten()(capsule3)        \n",
    "\n",
    "    merged = concatenate([flat1, flat2, flat3])\n",
    "    \n",
    "    dense = Dense(32,activation='relu')(merged)\n",
    "    output = Dense(3, activation='softmax')(dense)\n",
    "    model = Model(inputs=[input1,input2,input3], outputs=output)\n",
    "    model.compile(loss='categorical_crossentropy',optimizer='adam',metrics=['accuracy'])\n",
    "    model.summary()\n",
    "    return model"
   ]
  },
  {
   "cell_type": "code",
   "execution_count": null,
   "metadata": {
    "scrolled": true
   },
   "outputs": [],
   "source": [
    "model = define_model(150, vocabulary_size,embedding_matrix)\n",
    "maxacc =0\n",
    "for i in range(1,21):\n",
    "    model.fit([data,data,data], y = to_categorical(y), epochs=1, verbose=1)\n",
    "    acc = model.evaluate(x= [data_dev,data_dev,data_dev], y=to_categorical(y_dev))[1]\n",
    "    pred = model.predict([data_dev,data_dev,data_dev])\n",
    "    prd = np.argmax(pred,axis = 1)\n",
    "    print(confusion_matrix(y_dev,prd))\n",
    "    print(classification_report(y_dev,prd))\n",
    "    print(\"Accuracy : \",accuracy_score(prd,y_dev))\n",
    "    if(acc > maxacc):\n",
    "        print(acc,i)\n",
    "        maxacc = acc\n",
    "        model.save_weights('aug_caps_weights.h5')        \n",
    "        model.save('aug_caps.h5')\n"
   ]
  },
  {
   "cell_type": "code",
   "execution_count": null,
   "metadata": {},
   "outputs": [],
   "source": [
    "def define_model(length, vocabulary_size,embedding_matrix):\n",
    "    input1 = Input(shape=(length,))\n",
    "    embedding1 = Embedding(vocabulary_size,100, weights=[embedding_matrix], trainable=False)(input1)\n",
    "    conv1 = Conv1D(filters=32, kernel_size=3, activation='relu')(embedding1)\n",
    "    conv1 = Dropout(0.5)(conv1)\n",
    "    capsule1 = Capsule(num_capsule=Num_capsule, dim_capsule=Dim_capsule, routings=3,share_weights=True)(conv1)\n",
    "    #flat1 = Flatten()(capsule1)\n",
    "    flat1 = Bidirectional(LSTM(300))(capsule1)\n",
    "\n",
    "    input2 = Input(shape=(length,))\n",
    "    embedding2 = Embedding(vocabulary_size,100, weights=[embedding_matrix], trainable=False)(input2)\n",
    "    conv2 = Conv1D(filters=32, kernel_size=4, activation='relu')(embedding2)\n",
    "    conv2 = Dropout(0.5)(conv2)    \n",
    "    capsule2 = Capsule(num_capsule=Num_capsule, dim_capsule=Dim_capsule, routings=3,share_weights=True)(conv2)\n",
    "    #flat2 = Flatten()(capsule2)    \n",
    "    flat2 = Bidirectional(LSTM(300))(capsule2)\n",
    "    \n",
    "    input3 = Input(shape=(length,))\n",
    "    embedding3 = Embedding(vocabulary_size,100, weights=[embedding_matrix], trainable=False)(input3)\n",
    "    conv3 = Conv1D(filters=32, kernel_size=5, activation='relu')(embedding3)   \n",
    "    conv3 = Dropout(0.5)(conv3)    \n",
    "    capsule3 = Capsule(num_capsule=Num_capsule, dim_capsule=Dim_capsule, routings=3,share_weights=True)(conv3)\n",
    "    #flat3 = Flatten()(capsule3)        \n",
    "    flat3 = Bidirectional(LSTM(300))(capsule3)\n",
    "    merged = concatenate([flat1, flat2, flat3])\n",
    "    \n",
    "    dense = Dense(32,activation='relu')(merged)\n",
    "    output = Dense(3, activation='softmax')(dense)\n",
    "    model = Model(inputs=[input1,input2,input3], outputs=output)\n",
    "    model.compile(loss='categorical_crossentropy',optimizer='adam',metrics=['accuracy'])\n",
    "    model.summary()\n",
    "    return model"
   ]
  },
  {
   "cell_type": "code",
   "execution_count": null,
   "metadata": {},
   "outputs": [],
   "source": [
    "model = define_model(150, vocabulary_size,embedding_matrix)\n",
    "maxacc =.50\n",
    "for i in range(1,21):\n",
    "    model.fit([data,data,data], y = to_categorical(y), epochs=1, verbose=1)\n",
    "    acc = model.evaluate(x= [data_dev,data_dev,data_dev], y=to_categorical(y_dev))[1]\n",
    "    print('val: ', acc)\n",
    "    pred = model.predict([data_dev,data_dev,data_dev])\n",
    "    prd = np.argmax(pred,axis = 1)\n",
    "    print(confusion_matrix(y_dev,prd))\n",
    "    print(classification_report(y_dev,prd))\n",
    "    if(acc > maxacc):\n",
    "        print(acc,i)\n",
    "        maxacc = acc\n",
    "        model.save('reproduce_caps_bi.h5')\n",
    "        model.save_weights('reproduce_caps_bi.h5')"
   ]
  },
  {
   "cell_type": "code",
   "execution_count": null,
   "metadata": {},
   "outputs": [],
   "source": []
  }
 ],
 "metadata": {
  "kernelspec": {
   "display_name": "Python 3",
   "language": "python",
   "name": "python3"
  },
  "language_info": {
   "codemirror_mode": {
    "name": "ipython",
    "version": 3
   },
   "file_extension": ".py",
   "mimetype": "text/x-python",
   "name": "python",
   "nbconvert_exporter": "python",
   "pygments_lexer": "ipython3",
   "version": "3.7.3"
  }
 },
 "nbformat": 4,
 "nbformat_minor": 2
}
